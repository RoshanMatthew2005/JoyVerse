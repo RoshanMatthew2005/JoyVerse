{
 "cells": [
  {
   "cell_type": "code",
   "execution_count": 24,
   "id": "56a8cf22",
   "metadata": {},
   "outputs": [
    {
     "name": "stderr",
     "output_type": "stream",
     "text": [
      "Epoch 1/25: 100%|██████████| 830/830 [00:15<00:00, 52.63it/s, acc=18.5, loss=1.94]\n",
      "c:\\Users\\koushika\\AppData\\Local\\Programs\\Python\\Python312\\Lib\\site-packages\\sklearn\\metrics\\_classification.py:1565: UndefinedMetricWarning: Precision is ill-defined and being set to 0.0 in labels with no predicted samples. Use `zero_division` parameter to control this behavior.\n",
      "  _warn_prf(average, modifier, f\"{metric.capitalize()} is\", len(result))\n",
      "c:\\Users\\koushika\\AppData\\Local\\Programs\\Python\\Python312\\Lib\\site-packages\\sklearn\\metrics\\_classification.py:1565: UndefinedMetricWarning: Precision is ill-defined and being set to 0.0 in labels with no predicted samples. Use `zero_division` parameter to control this behavior.\n",
      "  _warn_prf(average, modifier, f\"{metric.capitalize()} is\", len(result))\n",
      "c:\\Users\\koushika\\AppData\\Local\\Programs\\Python\\Python312\\Lib\\site-packages\\sklearn\\metrics\\_classification.py:1565: UndefinedMetricWarning: Precision is ill-defined and being set to 0.0 in labels with no predicted samples. Use `zero_division` parameter to control this behavior.\n",
      "  _warn_prf(average, modifier, f\"{metric.capitalize()} is\", len(result))\n"
     ]
    },
    {
     "name": "stdout",
     "output_type": "stream",
     "text": [
      "\n",
      "Classification Report:\n",
      "               precision    recall  f1-score   support\n",
      "\n",
      "       angry       0.00      0.00      0.00       835\n",
      "     disgust       0.00      0.00      0.00        97\n",
      "        fear       0.00      0.00      0.00       933\n",
      "       happy       0.53      0.01      0.01      1713\n",
      "     neutral       0.23      0.25      0.24      1181\n",
      "         sad       0.20      0.47      0.28      1094\n",
      "    surprise       0.17      0.60      0.27       779\n",
      "\n",
      "    accuracy                           0.19      6632\n",
      "   macro avg       0.16      0.19      0.11      6632\n",
      "weighted avg       0.23      0.19      0.12      6632\n",
      "\n",
      "Epoch 1 complete. Test Accuracy: 19.41%\n",
      "\n"
     ]
    },
    {
     "name": "stderr",
     "output_type": "stream",
     "text": [
      "Epoch 2/25: 100%|██████████| 830/830 [00:21<00:00, 39.41it/s, acc=22, loss=1.92]  \n"
     ]
    },
    {
     "name": "stdout",
     "output_type": "stream",
     "text": [
      "\n",
      "Classification Report:\n",
      "               precision    recall  f1-score   support\n",
      "\n",
      "       angry       0.14      0.03      0.05       835\n",
      "     disgust       0.00      0.00      0.00        97\n",
      "        fear       0.14      0.09      0.11       933\n",
      "       happy       0.45      0.52      0.48      1713\n",
      "     neutral       0.19      0.00      0.01      1181\n",
      "         sad       0.25      0.32      0.28      1094\n",
      "    surprise       0.19      0.61      0.29       779\n",
      "\n",
      "    accuracy                           0.28      6632\n",
      "   macro avg       0.20      0.23      0.17      6632\n",
      "weighted avg       0.25      0.28      0.23      6632\n",
      "\n",
      "Epoch 2 complete. Test Accuracy: 27.61%\n",
      "\n"
     ]
    },
    {
     "name": "stderr",
     "output_type": "stream",
     "text": [
      "Epoch 3/25: 100%|██████████| 830/830 [00:22<00:00, 36.85it/s, acc=27.1, loss=1.88]\n"
     ]
    },
    {
     "name": "stdout",
     "output_type": "stream",
     "text": [
      "\n",
      "Classification Report:\n",
      "               precision    recall  f1-score   support\n",
      "\n",
      "       angry       0.30      0.01      0.02       835\n",
      "     disgust       0.09      0.02      0.03        97\n",
      "        fear       0.17      0.04      0.07       933\n",
      "       happy       0.67      0.57      0.62      1713\n",
      "     neutral       0.25      0.20      0.22      1181\n",
      "         sad       0.25      0.45      0.32      1094\n",
      "    surprise       0.27      0.67      0.39       779\n",
      "\n",
      "    accuracy                           0.34      6632\n",
      "   macro avg       0.28      0.28      0.24      6632\n",
      "weighted avg       0.35      0.34      0.31      6632\n",
      "\n",
      "Epoch 3 complete. Test Accuracy: 34.47%\n",
      "\n"
     ]
    },
    {
     "name": "stderr",
     "output_type": "stream",
     "text": [
      "Epoch 4/25: 100%|██████████| 830/830 [00:22<00:00, 36.77it/s, acc=33.5, loss=1.8] \n"
     ]
    },
    {
     "name": "stdout",
     "output_type": "stream",
     "text": [
      "\n",
      "Classification Report:\n",
      "               precision    recall  f1-score   support\n",
      "\n",
      "       angry       0.15      0.10      0.12       835\n",
      "     disgust       0.06      0.04      0.05        97\n",
      "        fear       0.24      0.02      0.03       933\n",
      "       happy       0.48      0.88      0.62      1713\n",
      "     neutral       0.29      0.05      0.08      1181\n",
      "         sad       0.30      0.29      0.30      1094\n",
      "    surprise       0.35      0.70      0.47       779\n",
      "\n",
      "    accuracy                           0.38      6632\n",
      "   macro avg       0.27      0.30      0.24      6632\n",
      "weighted avg       0.32      0.38      0.30      6632\n",
      "\n",
      "Epoch 4 complete. Test Accuracy: 38.28%\n",
      "\n"
     ]
    },
    {
     "name": "stderr",
     "output_type": "stream",
     "text": [
      "Epoch 5/25: 100%|██████████| 830/830 [00:22<00:00, 36.36it/s, acc=36.4, loss=1.74]\n"
     ]
    },
    {
     "name": "stdout",
     "output_type": "stream",
     "text": [
      "\n",
      "Classification Report:\n",
      "               precision    recall  f1-score   support\n",
      "\n",
      "       angry       0.19      0.03      0.05       835\n",
      "     disgust       0.03      0.22      0.05        97\n",
      "        fear       0.18      0.06      0.09       933\n",
      "       happy       0.54      0.86      0.66      1713\n",
      "     neutral       0.34      0.10      0.15      1181\n",
      "         sad       0.30      0.31      0.31      1094\n",
      "    surprise       0.44      0.68      0.54       779\n",
      "\n",
      "    accuracy                           0.39      6632\n",
      "   macro avg       0.29      0.32      0.26      6632\n",
      "weighted avg       0.35      0.39      0.33      6632\n",
      "\n",
      "Epoch 5 complete. Test Accuracy: 38.65%\n",
      "\n"
     ]
    },
    {
     "name": "stderr",
     "output_type": "stream",
     "text": [
      "Epoch 6/25: 100%|██████████| 830/830 [00:23<00:00, 34.79it/s, acc=37, loss=1.71]  \n"
     ]
    },
    {
     "name": "stdout",
     "output_type": "stream",
     "text": [
      "\n",
      "Classification Report:\n",
      "               precision    recall  f1-score   support\n",
      "\n",
      "       angry       0.25      0.10      0.14       835\n",
      "     disgust       0.04      0.15      0.07        97\n",
      "        fear       0.18      0.01      0.02       933\n",
      "       happy       0.68      0.75      0.71      1713\n",
      "     neutral       0.31      0.38      0.34      1181\n",
      "         sad       0.32      0.34      0.33      1094\n",
      "    surprise       0.40      0.70      0.51       779\n",
      "\n",
      "    accuracy                           0.42      6632\n",
      "   macro avg       0.31      0.35      0.30      6632\n",
      "weighted avg       0.39      0.42      0.38      6632\n",
      "\n",
      "Epoch 6 complete. Test Accuracy: 41.62%\n",
      "\n"
     ]
    },
    {
     "name": "stderr",
     "output_type": "stream",
     "text": [
      "Epoch 7/25: 100%|██████████| 830/830 [00:23<00:00, 36.06it/s, acc=38, loss=1.69]  \n"
     ]
    },
    {
     "name": "stdout",
     "output_type": "stream",
     "text": [
      "\n",
      "Classification Report:\n",
      "               precision    recall  f1-score   support\n",
      "\n",
      "       angry       0.28      0.11      0.16       835\n",
      "     disgust       0.06      0.23      0.09        97\n",
      "        fear       0.22      0.06      0.09       933\n",
      "       happy       0.75      0.70      0.72      1713\n",
      "     neutral       0.33      0.21      0.26      1181\n",
      "         sad       0.35      0.27      0.30      1094\n",
      "    surprise       0.27      0.85      0.41       779\n",
      "\n",
      "    accuracy                           0.39      6632\n",
      "   macro avg       0.32      0.35      0.29      6632\n",
      "weighted avg       0.41      0.39      0.37      6632\n",
      "\n",
      "Epoch 7 complete. Test Accuracy: 38.80%\n",
      "\n"
     ]
    },
    {
     "name": "stderr",
     "output_type": "stream",
     "text": [
      "Epoch 8/25: 100%|██████████| 830/830 [00:23<00:00, 34.94it/s, acc=38.9, loss=1.68]\n"
     ]
    },
    {
     "name": "stdout",
     "output_type": "stream",
     "text": [
      "\n",
      "Classification Report:\n",
      "               precision    recall  f1-score   support\n",
      "\n",
      "       angry       0.26      0.08      0.12       835\n",
      "     disgust       0.05      0.19      0.08        97\n",
      "        fear       0.12      0.00      0.01       933\n",
      "       happy       0.61      0.83      0.71      1713\n",
      "     neutral       0.34      0.45      0.39      1181\n",
      "         sad       0.35      0.26      0.30      1094\n",
      "    surprise       0.44      0.72      0.54       779\n",
      "\n",
      "    accuracy                           0.44      6632\n",
      "   macro avg       0.31      0.36      0.31      6632\n",
      "weighted avg       0.38      0.44      0.38      6632\n",
      "\n",
      "Epoch 8 complete. Test Accuracy: 43.58%\n",
      "\n"
     ]
    },
    {
     "name": "stderr",
     "output_type": "stream",
     "text": [
      "Epoch 9/25: 100%|██████████| 830/830 [00:25<00:00, 32.14it/s, acc=39.4, loss=1.67]\n"
     ]
    },
    {
     "name": "stdout",
     "output_type": "stream",
     "text": [
      "\n",
      "Classification Report:\n",
      "               precision    recall  f1-score   support\n",
      "\n",
      "       angry       0.22      0.19      0.21       835\n",
      "     disgust       0.05      0.23      0.08        97\n",
      "        fear       0.19      0.03      0.06       933\n",
      "       happy       0.58      0.85      0.69      1713\n",
      "     neutral       0.39      0.24      0.29      1181\n",
      "         sad       0.36      0.26      0.30      1094\n",
      "    surprise       0.42      0.71      0.53       779\n",
      "\n",
      "    accuracy                           0.42      6632\n",
      "   macro avg       0.32      0.36      0.31      6632\n",
      "weighted avg       0.38      0.42      0.38      6632\n",
      "\n",
      "Epoch 9 complete. Test Accuracy: 42.07%\n",
      "\n"
     ]
    },
    {
     "name": "stderr",
     "output_type": "stream",
     "text": [
      "Epoch 10/25: 100%|██████████| 830/830 [00:24<00:00, 33.72it/s, acc=40.2, loss=1.65]\n"
     ]
    },
    {
     "name": "stdout",
     "output_type": "stream",
     "text": [
      "\n",
      "Classification Report:\n",
      "               precision    recall  f1-score   support\n",
      "\n",
      "       angry       0.23      0.16      0.19       835\n",
      "     disgust       0.05      0.30      0.08        97\n",
      "        fear       0.20      0.03      0.05       933\n",
      "       happy       0.69      0.79      0.73      1713\n",
      "     neutral       0.39      0.36      0.37      1181\n",
      "         sad       0.35      0.28      0.31      1094\n",
      "    surprise       0.42      0.74      0.53       779\n",
      "\n",
      "    accuracy                           0.43      6632\n",
      "   macro avg       0.33      0.38      0.33      6632\n",
      "weighted avg       0.41      0.43      0.40      6632\n",
      "\n",
      "Epoch 10 complete. Test Accuracy: 42.91%\n",
      "\n"
     ]
    },
    {
     "name": "stderr",
     "output_type": "stream",
     "text": [
      "Epoch 11/25: 100%|██████████| 830/830 [00:24<00:00, 34.51it/s, acc=40.9, loss=1.64]\n"
     ]
    },
    {
     "name": "stdout",
     "output_type": "stream",
     "text": [
      "\n",
      "Classification Report:\n",
      "               precision    recall  f1-score   support\n",
      "\n",
      "       angry       0.27      0.12      0.17       835\n",
      "     disgust       0.04      0.42      0.08        97\n",
      "        fear       0.16      0.02      0.03       933\n",
      "       happy       0.67      0.81      0.73      1713\n",
      "     neutral       0.38      0.44      0.41      1181\n",
      "         sad       0.37      0.26      0.30      1094\n",
      "    surprise       0.52      0.69      0.59       779\n",
      "\n",
      "    accuracy                           0.43      6632\n",
      "   macro avg       0.34      0.39      0.33      6632\n",
      "weighted avg       0.42      0.43      0.41      6632\n",
      "\n",
      "Epoch 11 complete. Test Accuracy: 43.37%\n",
      "\n"
     ]
    },
    {
     "name": "stderr",
     "output_type": "stream",
     "text": [
      "Epoch 12/25: 100%|██████████| 830/830 [00:24<00:00, 33.59it/s, acc=41.6, loss=1.63]\n"
     ]
    },
    {
     "name": "stdout",
     "output_type": "stream",
     "text": [
      "\n",
      "Classification Report:\n",
      "               precision    recall  f1-score   support\n",
      "\n",
      "       angry       0.25      0.13      0.17       835\n",
      "     disgust       0.06      0.06      0.06        97\n",
      "        fear       0.23      0.07      0.11       933\n",
      "       happy       0.70      0.79      0.74      1713\n",
      "     neutral       0.40      0.33      0.36      1181\n",
      "         sad       0.33      0.35      0.34      1094\n",
      "    surprise       0.35      0.80      0.49       779\n",
      "\n",
      "    accuracy                           0.44      6632\n",
      "   macro avg       0.33      0.36      0.32      6632\n",
      "weighted avg       0.41      0.44      0.41      6632\n",
      "\n",
      "Epoch 12 complete. Test Accuracy: 44.00%\n",
      "\n"
     ]
    },
    {
     "name": "stderr",
     "output_type": "stream",
     "text": [
      "Epoch 13/25: 100%|██████████| 830/830 [00:23<00:00, 35.81it/s, acc=41.7, loss=1.62]\n"
     ]
    },
    {
     "name": "stdout",
     "output_type": "stream",
     "text": [
      "\n",
      "Classification Report:\n",
      "               precision    recall  f1-score   support\n",
      "\n",
      "       angry       0.27      0.09      0.14       835\n",
      "     disgust       0.06      0.18      0.09        97\n",
      "        fear       0.21      0.01      0.03       933\n",
      "       happy       0.68      0.81      0.74      1713\n",
      "     neutral       0.37      0.55      0.44      1181\n",
      "         sad       0.32      0.40      0.35      1094\n",
      "    surprise       0.56      0.61      0.59       779\n",
      "\n",
      "    accuracy                           0.46      6632\n",
      "   macro avg       0.35      0.38      0.34      6632\n",
      "weighted avg       0.42      0.46      0.42      6632\n",
      "\n",
      "Epoch 13 complete. Test Accuracy: 45.93%\n",
      "\n"
     ]
    },
    {
     "name": "stderr",
     "output_type": "stream",
     "text": [
      "Epoch 14/25: 100%|██████████| 830/830 [00:23<00:00, 35.59it/s, acc=42.2, loss=1.62]\n"
     ]
    },
    {
     "name": "stdout",
     "output_type": "stream",
     "text": [
      "\n",
      "Classification Report:\n",
      "               precision    recall  f1-score   support\n",
      "\n",
      "       angry       0.24      0.15      0.19       835\n",
      "     disgust       0.07      0.23      0.11        97\n",
      "        fear       0.24      0.05      0.08       933\n",
      "       happy       0.76      0.75      0.75      1713\n",
      "     neutral       0.37      0.37      0.37      1181\n",
      "         sad       0.37      0.25      0.30      1094\n",
      "    surprise       0.33      0.84      0.47       779\n",
      "\n",
      "    accuracy                           0.43      6632\n",
      "   macro avg       0.34      0.38      0.33      6632\n",
      "weighted avg       0.43      0.43      0.40      6632\n",
      "\n",
      "Epoch 14 complete. Test Accuracy: 42.91%\n",
      "\n"
     ]
    },
    {
     "name": "stderr",
     "output_type": "stream",
     "text": [
      "Epoch 15/25: 100%|██████████| 830/830 [00:24<00:00, 34.21it/s, acc=42.5, loss=1.61]\n"
     ]
    },
    {
     "name": "stdout",
     "output_type": "stream",
     "text": [
      "\n",
      "Classification Report:\n",
      "               precision    recall  f1-score   support\n",
      "\n",
      "       angry       0.29      0.16      0.21       835\n",
      "     disgust       0.07      0.23      0.11        97\n",
      "        fear       0.17      0.02      0.04       933\n",
      "       happy       0.80      0.68      0.74      1713\n",
      "     neutral       0.36      0.56      0.44      1181\n",
      "         sad       0.32      0.37      0.35      1094\n",
      "    surprise       0.47      0.72      0.57       779\n",
      "\n",
      "    accuracy                           0.45      6632\n",
      "   macro avg       0.36      0.39      0.35      6632\n",
      "weighted avg       0.44      0.45      0.43      6632\n",
      "\n",
      "Epoch 15 complete. Test Accuracy: 44.95%\n",
      "\n"
     ]
    },
    {
     "name": "stderr",
     "output_type": "stream",
     "text": [
      "Epoch 16/25: 100%|██████████| 830/830 [00:26<00:00, 30.83it/s, acc=42.4, loss=1.6] \n"
     ]
    },
    {
     "name": "stdout",
     "output_type": "stream",
     "text": [
      "\n",
      "Classification Report:\n",
      "               precision    recall  f1-score   support\n",
      "\n",
      "       angry       0.31      0.11      0.16       835\n",
      "     disgust       0.07      0.23      0.11        97\n",
      "        fear       0.20      0.01      0.01       933\n",
      "       happy       0.68      0.82      0.74      1713\n",
      "     neutral       0.35      0.62      0.45      1181\n",
      "         sad       0.37      0.25      0.30      1094\n",
      "    surprise       0.50      0.71      0.59       779\n",
      "\n",
      "    accuracy                           0.47      6632\n",
      "   macro avg       0.35      0.39      0.34      6632\n",
      "weighted avg       0.43      0.47      0.41      6632\n",
      "\n",
      "Epoch 16 complete. Test Accuracy: 46.52%\n",
      "\n"
     ]
    },
    {
     "name": "stderr",
     "output_type": "stream",
     "text": [
      "Epoch 17/25: 100%|██████████| 830/830 [00:25<00:00, 32.51it/s, acc=43, loss=1.6]   \n"
     ]
    },
    {
     "name": "stdout",
     "output_type": "stream",
     "text": [
      "\n",
      "Classification Report:\n",
      "               precision    recall  f1-score   support\n",
      "\n",
      "       angry       0.31      0.11      0.16       835\n",
      "     disgust       0.08      0.05      0.06        97\n",
      "        fear       0.19      0.03      0.05       933\n",
      "       happy       0.78      0.72      0.75      1713\n",
      "     neutral       0.36      0.52      0.42      1181\n",
      "         sad       0.34      0.34      0.34      1094\n",
      "    surprise       0.36      0.81      0.50       779\n",
      "\n",
      "    accuracy                           0.45      6632\n",
      "   macro avg       0.35      0.37      0.33      6632\n",
      "weighted avg       0.43      0.45      0.41      6632\n",
      "\n",
      "Epoch 17 complete. Test Accuracy: 44.72%\n",
      "\n"
     ]
    },
    {
     "name": "stderr",
     "output_type": "stream",
     "text": [
      "Epoch 18/25: 100%|██████████| 830/830 [00:24<00:00, 33.44it/s, acc=43.1, loss=1.6] \n"
     ]
    },
    {
     "name": "stdout",
     "output_type": "stream",
     "text": [
      "\n",
      "Classification Report:\n",
      "               precision    recall  f1-score   support\n",
      "\n",
      "       angry       0.20      0.43      0.28       835\n",
      "     disgust       0.05      0.45      0.09        97\n",
      "        fear       0.17      0.02      0.03       933\n",
      "       happy       0.78      0.74      0.76      1713\n",
      "     neutral       0.43      0.22      0.29      1181\n",
      "         sad       0.42      0.17      0.24      1094\n",
      "    surprise       0.45      0.73      0.56       779\n",
      "\n",
      "    accuracy                           0.41      6632\n",
      "   macro avg       0.36      0.39      0.32      6632\n",
      "weighted avg       0.45      0.41      0.39      6632\n",
      "\n",
      "Epoch 18 complete. Test Accuracy: 40.64%\n",
      "\n"
     ]
    },
    {
     "name": "stderr",
     "output_type": "stream",
     "text": [
      "Epoch 19/25: 100%|██████████| 830/830 [00:25<00:00, 32.51it/s, acc=42.8, loss=1.59]\n"
     ]
    },
    {
     "name": "stdout",
     "output_type": "stream",
     "text": [
      "\n",
      "Classification Report:\n",
      "               precision    recall  f1-score   support\n",
      "\n",
      "       angry       0.39      0.11      0.18       835\n",
      "     disgust       0.08      0.21      0.12        97\n",
      "        fear       0.25      0.02      0.03       933\n",
      "       happy       0.78      0.72      0.75      1713\n",
      "     neutral       0.35      0.63      0.45      1181\n",
      "         sad       0.34      0.36      0.35      1094\n",
      "    surprise       0.48      0.72      0.57       779\n",
      "\n",
      "    accuracy                           0.46      6632\n",
      "   macro avg       0.38      0.40      0.35      6632\n",
      "weighted avg       0.46      0.46      0.43      6632\n",
      "\n",
      "Epoch 19 complete. Test Accuracy: 46.28%\n",
      "\n"
     ]
    },
    {
     "name": "stderr",
     "output_type": "stream",
     "text": [
      "Epoch 20/25: 100%|██████████| 830/830 [00:26<00:00, 31.46it/s, acc=43.3, loss=1.59]\n"
     ]
    },
    {
     "name": "stdout",
     "output_type": "stream",
     "text": [
      "\n",
      "Classification Report:\n",
      "               precision    recall  f1-score   support\n",
      "\n",
      "       angry       0.33      0.18      0.23       835\n",
      "     disgust       0.08      0.19      0.11        97\n",
      "        fear       0.21      0.03      0.05       933\n",
      "       happy       0.81      0.69      0.75      1713\n",
      "     neutral       0.35      0.69      0.47      1181\n",
      "         sad       0.36      0.31      0.33      1094\n",
      "    surprise       0.52      0.70      0.60       779\n",
      "\n",
      "    accuracy                           0.47      6632\n",
      "   macro avg       0.38      0.40      0.36      6632\n",
      "weighted avg       0.46      0.47      0.44      6632\n",
      "\n",
      "Epoch 20 complete. Test Accuracy: 46.61%\n",
      "\n"
     ]
    },
    {
     "name": "stderr",
     "output_type": "stream",
     "text": [
      "Epoch 21/25: 100%|██████████| 830/830 [00:27<00:00, 30.73it/s, acc=43.8, loss=1.58]\n"
     ]
    },
    {
     "name": "stdout",
     "output_type": "stream",
     "text": [
      "\n",
      "Classification Report:\n",
      "               precision    recall  f1-score   support\n",
      "\n",
      "       angry       0.31      0.19      0.23       835\n",
      "     disgust       0.04      0.69      0.07        97\n",
      "        fear       0.23      0.03      0.06       933\n",
      "       happy       0.77      0.75      0.76      1713\n",
      "     neutral       0.41      0.33      0.37      1181\n",
      "         sad       0.38      0.25      0.30      1094\n",
      "    surprise       0.55      0.66      0.60       779\n",
      "\n",
      "    accuracy                           0.41      6632\n",
      "   macro avg       0.38      0.41      0.34      6632\n",
      "weighted avg       0.47      0.41      0.42      6632\n",
      "\n",
      "Epoch 21 complete. Test Accuracy: 40.94%\n",
      "\n"
     ]
    },
    {
     "name": "stderr",
     "output_type": "stream",
     "text": [
      "Epoch 22/25: 100%|██████████| 830/830 [00:25<00:00, 32.43it/s, acc=43.5, loss=1.58]\n"
     ]
    },
    {
     "name": "stdout",
     "output_type": "stream",
     "text": [
      "\n",
      "Classification Report:\n",
      "               precision    recall  f1-score   support\n",
      "\n",
      "       angry       0.34      0.17      0.23       835\n",
      "     disgust       0.08      0.34      0.13        97\n",
      "        fear       0.22      0.02      0.04       933\n",
      "       happy       0.74      0.77      0.75      1713\n",
      "     neutral       0.36      0.64      0.46      1181\n",
      "         sad       0.35      0.29      0.32      1094\n",
      "    surprise       0.56      0.67      0.61       779\n",
      "\n",
      "    accuracy                           0.47      6632\n",
      "   macro avg       0.38      0.41      0.36      6632\n",
      "weighted avg       0.45      0.47      0.44      6632\n",
      "\n",
      "Epoch 22 complete. Test Accuracy: 46.85%\n",
      "\n"
     ]
    },
    {
     "name": "stderr",
     "output_type": "stream",
     "text": [
      "Epoch 23/25: 100%|██████████| 830/830 [00:23<00:00, 35.15it/s, acc=43.7, loss=1.57]\n"
     ]
    },
    {
     "name": "stdout",
     "output_type": "stream",
     "text": [
      "\n",
      "Classification Report:\n",
      "               precision    recall  f1-score   support\n",
      "\n",
      "       angry       0.41      0.12      0.18       835\n",
      "     disgust       0.08      0.20      0.12        97\n",
      "        fear       0.28      0.01      0.01       933\n",
      "       happy       0.75      0.75      0.75      1713\n",
      "     neutral       0.34      0.74      0.47      1181\n",
      "         sad       0.36      0.30      0.33      1094\n",
      "    surprise       0.54      0.67      0.60       779\n",
      "\n",
      "    accuracy                           0.47      6632\n",
      "   macro avg       0.40      0.40      0.35      6632\n",
      "weighted avg       0.47      0.47      0.43      6632\n",
      "\n",
      "Epoch 23 complete. Test Accuracy: 47.38%\n",
      "\n"
     ]
    },
    {
     "name": "stderr",
     "output_type": "stream",
     "text": [
      "Epoch 24/25: 100%|██████████| 830/830 [00:24<00:00, 33.59it/s, acc=43.3, loss=1.58]\n"
     ]
    },
    {
     "name": "stdout",
     "output_type": "stream",
     "text": [
      "\n",
      "Classification Report:\n",
      "               precision    recall  f1-score   support\n",
      "\n",
      "       angry       0.32      0.28      0.30       835\n",
      "     disgust       0.06      0.53      0.10        97\n",
      "        fear       0.21      0.02      0.03       933\n",
      "       happy       0.76      0.76      0.76      1713\n",
      "     neutral       0.39      0.47      0.43      1181\n",
      "         sad       0.35      0.31      0.33      1094\n",
      "    surprise       0.59      0.63      0.61       779\n",
      "\n",
      "    accuracy                           0.45      6632\n",
      "   macro avg       0.38      0.43      0.37      6632\n",
      "weighted avg       0.46      0.45      0.44      6632\n",
      "\n",
      "Epoch 24 complete. Test Accuracy: 45.13%\n",
      "\n"
     ]
    },
    {
     "name": "stderr",
     "output_type": "stream",
     "text": [
      "Epoch 25/25: 100%|██████████| 830/830 [00:24<00:00, 34.10it/s, acc=43.4, loss=1.57]\n"
     ]
    },
    {
     "name": "stdout",
     "output_type": "stream",
     "text": [
      "\n",
      "Classification Report:\n",
      "               precision    recall  f1-score   support\n",
      "\n",
      "       angry       0.35      0.21      0.26       835\n",
      "     disgust       0.06      0.44      0.11        97\n",
      "        fear       0.24      0.01      0.02       933\n",
      "       happy       0.76      0.77      0.76      1713\n",
      "     neutral       0.38      0.57      0.45      1181\n",
      "         sad       0.36      0.29      0.32      1094\n",
      "    surprise       0.53      0.70      0.60       779\n",
      "\n",
      "    accuracy                           0.46      6632\n",
      "   macro avg       0.38      0.43      0.36      6632\n",
      "weighted avg       0.46      0.46      0.44      6632\n",
      "\n",
      "Epoch 25 complete. Test Accuracy: 46.32%\n",
      "\n"
     ]
    }
   ],
   "source": [
    "import os\n",
    "import numpy as np\n",
    "import pandas as pd\n",
    "import torch\n",
    "import torch.nn as nn\n",
    "import torch.optim as optim\n",
    "from tqdm import tqdm\n",
    "from torch.utils.data import Dataset, DataLoader\n",
    "from sklearn.metrics import classification_report\n",
    "\n",
    "# Config\n",
    "device = torch.device(\"cuda\" if torch.cuda.is_available() else \"cpu\")\n",
    "NUM_CLASSES = 7\n",
    "CLASS_NAMES = ['angry', 'disgust', 'fear', 'happy', 'neutral', 'sad', 'surprise']\n",
    "CLASS_TO_IDX = {label: idx for idx, label in enumerate(CLASS_NAMES)}\n",
    "\n",
    "# Dataset (landmarks only)\n",
    "class LandmarkOnlyDataset(Dataset):\n",
    "    def __init__(self, csv_file):\n",
    "        self.data = pd.read_csv(csv_file)\n",
    "\n",
    "    def __len__(self):\n",
    "        return len(self.data)\n",
    "\n",
    "    def __getitem__(self, idx):\n",
    "        row = self.data.iloc[idx]\n",
    "        landmark_path = row['Landmark']\n",
    "        landmarks = np.load(landmark_path).astype(np.float32).flatten()  # (468, 2) → (936,)\n",
    "        landmarks = torch.tensor(landmarks, dtype=torch.float32)\n",
    "        label = CLASS_TO_IDX[row['Emotion']]\n",
    "        return landmarks, label\n",
    "\n",
    "# Loaders\n",
    "def create_loaders(train_csv, test_csv):\n",
    "    train_dataset = LandmarkOnlyDataset(train_csv)\n",
    "    test_dataset = LandmarkOnlyDataset(test_csv)\n",
    "\n",
    "    # Calculate class weights\n",
    "    labels = [label for _, label in train_dataset]\n",
    "    counts = np.bincount(labels, minlength=NUM_CLASSES)\n",
    "    total = float(sum(counts))\n",
    "    weights = [total / (NUM_CLASSES * count) for count in counts]\n",
    "    class_weights = torch.tensor(weights, dtype=torch.float32)\n",
    "\n",
    "    train_loader = DataLoader(train_dataset, batch_size=32, shuffle=True)\n",
    "    test_loader = DataLoader(test_dataset, batch_size=32, shuffle=False)\n",
    "    return train_loader, test_loader, class_weights\n",
    "\n",
    "# Simple MLP Model\n",
    "class LandmarkClassifier(nn.Module):\n",
    "    def __init__(self):\n",
    "        super().__init__()\n",
    "        self.net = nn.Sequential(\n",
    "            nn.Linear(1404, 512),\n",
    "            nn.ReLU(),\n",
    "            nn.Dropout(0.3),\n",
    "            nn.Linear(512, 256),\n",
    "            nn.ReLU(),\n",
    "            nn.Dropout(0.3),\n",
    "            nn.Linear(256, NUM_CLASSES)\n",
    "        )\n",
    "\n",
    "    def forward(self, landmarks):\n",
    "        return self.net(landmarks)\n",
    "\n",
    "\n",
    "# Evaluation\n",
    "def evaluate(model, dataloader):\n",
    "    model.eval()\n",
    "    y_true, y_pred = [], []\n",
    "    with torch.no_grad():\n",
    "        for landmarks, labels in dataloader:\n",
    "            landmarks = landmarks.to(device)\n",
    "            outputs = model(landmarks)\n",
    "            _, preds = torch.max(outputs, 1)\n",
    "            y_true.extend(labels.numpy())\n",
    "            y_pred.extend(preds.cpu().numpy())\n",
    "    report = classification_report(y_true, y_pred, target_names=CLASS_NAMES, digits=2)\n",
    "    print(\"\\nClassification Report:\\n\", report)\n",
    "    return np.mean(np.array(y_true) == np.array(y_pred)) * 100\n",
    "\n",
    "# Training\n",
    "def train_model(train_csv, test_csv, num_epochs=25):\n",
    "    train_loader, test_loader, class_weights = create_loaders(train_csv, test_csv)\n",
    "    model = LandmarkClassifier().to(device)\n",
    "    criterion = nn.CrossEntropyLoss(weight=class_weights.to(device))\n",
    "    optimizer = optim.Adam(model.parameters(), lr=1e-4)\n",
    "\n",
    "    best_acc = 0.0\n",
    "    for epoch in range(num_epochs):\n",
    "        model.train()\n",
    "        running_loss, correct, total = 0, 0, 0\n",
    "        pbar = tqdm(train_loader, desc=f\"Epoch {epoch+1}/{num_epochs}\")\n",
    "\n",
    "        for landmarks, labels in pbar:\n",
    "            landmarks, labels = landmarks.to(device), labels.to(device)\n",
    "            optimizer.zero_grad()\n",
    "            outputs = model(landmarks)\n",
    "            loss = criterion(outputs, labels)\n",
    "            loss.backward()\n",
    "            optimizer.step()\n",
    "\n",
    "            running_loss += loss.item()\n",
    "            _, preds = torch.max(outputs, 1)\n",
    "            total += labels.size(0)\n",
    "            correct += (preds == labels).sum().item()\n",
    "            pbar.set_postfix(loss=running_loss / (total // 32 + 1), acc=100 * correct / total)\n",
    "\n",
    "        acc = evaluate(model, test_loader)\n",
    "        if acc > best_acc:\n",
    "            best_acc = acc\n",
    "            torch.save(model.state_dict(), \"best_landmark_model.pth\")\n",
    "        print(f\"Epoch {epoch+1} complete. Test Accuracy: {acc:.2f}%\\n\")\n",
    "\n",
    "# Run\n",
    "if __name__ == \"__main__\":\n",
    "    train_csv = r\"C:/Users/koushika/Dropbox/PC/Downloads/facemesh_data_train_landmarks.csv\"\n",
    "    test_csv = r\"C:/Users/koushika/Dropbox/PC/Downloads/facemesh_data_test_landmarks.csv\"\n",
    "    train_model(train_csv, test_csv, num_epochs=25)\n"
   ]
  },
  {
   "cell_type": "code",
   "execution_count": 25,
   "id": "a66a8d8a",
   "metadata": {},
   "outputs": [
    {
     "name": "stdout",
     "output_type": "stream",
     "text": [
      "CSV Headers:\n",
      " ['Image', 'Landmark', 'Emotion']\n",
      "\n",
      "First 5 Rows:\n",
      "                    Image                                           Landmark  \\\n",
      "0  Training_10118481.jpg  C:/Users/koushika/Dropbox/PC/Downloads/landmar...   \n",
      "1  Training_10120469.jpg  C:/Users/koushika/Dropbox/PC/Downloads/landmar...   \n",
      "2  Training_10161559.jpg  C:/Users/koushika/Dropbox/PC/Downloads/landmar...   \n",
      "3   Training_1021836.jpg  C:/Users/koushika/Dropbox/PC/Downloads/landmar...   \n",
      "4  Training_10269675.jpg  C:/Users/koushika/Dropbox/PC/Downloads/landmar...   \n",
      "\n",
      "  Emotion  \n",
      "0   angry  \n",
      "1   angry  \n",
      "2   angry  \n",
      "3   angry  \n",
      "4   angry  \n"
     ]
    }
   ],
   "source": [
    "import pandas as pd\n",
    "\n",
    "# Update the path to your CSV file\n",
    "csv_path = r\"C:/Users/koushika/Dropbox/PC/Downloads/facemesh_data_train_landmarks.csv\"\n",
    "\n",
    "# Load and inspect\n",
    "df = pd.read_csv(csv_path)\n",
    "\n",
    "# Print the first few rows and the headers\n",
    "print(\"CSV Headers:\\n\", df.columns.tolist())\n",
    "print(\"\\nFirst 5 Rows:\\n\", df.head())\n"
   ]
  }
 ],
 "metadata": {
  "kernelspec": {
   "display_name": "Python 3",
   "language": "python",
   "name": "python3"
  },
  "language_info": {
   "codemirror_mode": {
    "name": "ipython",
    "version": 3
   },
   "file_extension": ".py",
   "mimetype": "text/x-python",
   "name": "python",
   "nbconvert_exporter": "python",
   "pygments_lexer": "ipython3",
   "version": "3.12.9"
  }
 },
 "nbformat": 4,
 "nbformat_minor": 5
}
