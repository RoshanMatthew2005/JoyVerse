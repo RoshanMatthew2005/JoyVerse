{
 "cells": [
  {
   "cell_type": "code",
   "execution_count": 1,
   "id": "8235751f",
   "metadata": {},
   "outputs": [
    {
     "name": "stderr",
     "output_type": "stream",
     "text": [
      "c:\\Users\\koushika\\AppData\\Local\\Programs\\Python\\Python312\\Lib\\site-packages\\tqdm\\auto.py:21: TqdmWarning: IProgress not found. Please update jupyter and ipywidgets. See https://ipywidgets.readthedocs.io/en/stable/user_install.html\n",
      "  from .autonotebook import tqdm as notebook_tqdm\n"
     ]
    }
   ],
   "source": [
    "import os\n",
    "import cv2\n",
    "import numpy as np\n",
    "from tqdm import tqdm\n",
    "from facenet_pytorch import MTCNN\n",
    "import torch\n"
   ]
  },
  {
   "cell_type": "code",
   "execution_count": 2,
   "id": "0b6876f4",
   "metadata": {},
   "outputs": [],
   "source": [
    "# Paths\n",
    "image_dir = r\"C:/Users/koushika/Dropbox/PC/Downloads/FERPlus-master/FERPlus_Balanced_5Class\"\n",
    "output_file = r\"C:/Users/koushika/Dropbox/PC/Downloads/FERPlus-master/FERPlus_Balanced_5Class_landmarks.npy\"\n",
    "\n",
    "# MTCNN\n",
    "device = 'cuda' if torch.cuda.is_available() else 'cpu'\n",
    "mtcnn = MTCNN(keep_all=False, device=device)\n"
   ]
  },
  {
   "cell_type": "code",
   "execution_count": 3,
   "id": "92d99d61",
   "metadata": {},
   "outputs": [
    {
     "name": "stderr",
     "output_type": "stream",
     "text": [
      "train/anger: 100%|██████████| 2467/2467 [00:42<00:00, 58.51it/s]\n",
      "train/happiness: 100%|██████████| 3500/3500 [01:02<00:00, 56.43it/s]\n",
      "train/neutral: 100%|██████████| 3500/3500 [00:55<00:00, 63.36it/s]\n",
      "train/sadness: 100%|██████████| 3500/3500 [00:52<00:00, 66.78it/s]\n",
      "train/surprise: 100%|██████████| 3500/3500 [00:55<00:00, 63.58it/s]\n",
      "test/anger: 100%|██████████| 644/644 [00:10<00:00, 60.53it/s]\n",
      "test/happiness: 100%|██████████| 700/700 [00:13<00:00, 53.26it/s]\n",
      "test/neutral: 100%|██████████| 700/700 [00:14<00:00, 49.00it/s]\n",
      "test/sadness: 100%|██████████| 700/700 [00:09<00:00, 70.05it/s]\n",
      "test/surprise: 100%|██████████| 700/700 [00:11<00:00, 61.37it/s]\n"
     ]
    }
   ],
   "source": [
    "landmarks_dict = {}\n",
    "\n",
    "for split in ['train', 'test']:\n",
    "    split_dir = os.path.join(image_dir, split)\n",
    "    for cls in os.listdir(split_dir):\n",
    "        cls_dir = os.path.join(split_dir, cls)\n",
    "        for img_name in tqdm(os.listdir(cls_dir), desc=f\"{split}/{cls}\"):\n",
    "            img_path = os.path.join(cls_dir, img_name)\n",
    "            img_rel_path = f\"{split}/{cls}/{img_name}\"\n",
    "            \n",
    "            img = cv2.imread(img_path)\n",
    "            if img is None:\n",
    "                print(f\"⚠️ Failed to load {img_path}\")\n",
    "                continue\n",
    "            \n",
    "            img_rgb = cv2.cvtColor(img, cv2.COLOR_BGR2RGB)\n",
    "            \n",
    "            _, _, landmarks = mtcnn.detect(img_rgb, landmarks=True)\n",
    "            \n",
    "            if landmarks is not None and len(landmarks) > 0:\n",
    "                landmarks_array = landmarks[0]\n",
    "            else:\n",
    "                landmarks_array = np.zeros((5, 2), dtype=np.float32)\n",
    "            \n",
    "            landmarks_dict[img_rel_path] = landmarks_array\n"
   ]
  },
  {
   "cell_type": "code",
   "execution_count": 4,
   "id": "74f9912a",
   "metadata": {},
   "outputs": [
    {
     "name": "stdout",
     "output_type": "stream",
     "text": [
      "✅ Landmarks saved to C:/Users/koushika/Dropbox/PC/Downloads/FERPlus-master/FERPlus_Balanced_5Class_landmarks.npy\n"
     ]
    }
   ],
   "source": [
    "np.save(output_file, landmarks_dict)\n",
    "print(f\"✅ Landmarks saved to {output_file}\")\n"
   ]
  },
  {
   "cell_type": "code",
   "execution_count": 5,
   "id": "9baf199d",
   "metadata": {},
   "outputs": [
    {
     "name": "stdout",
     "output_type": "stream",
     "text": [
      "Loaded 19911 landmark entries\n"
     ]
    },
    {
     "data": {
      "text/plain": [
       "[('train/anger/fer0000010.png',\n",
       "  array([[15.434951782226562, 20.939085006713867],\n",
       "         [38.264564514160156, 21.710905075073242],\n",
       "         [25.785295486450195, 30.056964874267578],\n",
       "         [15.296342849731445, 44.3617057800293],\n",
       "         [35.39720153808594, 45.454063415527344]], dtype=object)),\n",
       " ('train/anger/fer0000010.png.png',\n",
       "  array([[15.434951782226562, 20.939085006713867],\n",
       "         [38.264564514160156, 21.710905075073242],\n",
       "         [25.785295486450195, 30.056964874267578],\n",
       "         [15.296342849731445, 44.3617057800293],\n",
       "         [35.39720153808594, 45.454063415527344]], dtype=object)),\n",
       " ('train/anger/fer0000022.png.png',\n",
       "  array([[12.01125431060791, 16.053373336791992],\n",
       "         [28.313356399536133, 15.09048843383789],\n",
       "         [21.4791259765625, 25.831350326538086],\n",
       "         [14.927038192749023, 34.25493240356445],\n",
       "         [27.176713943481445, 33.38087463378906]], dtype=object))]"
      ]
     },
     "execution_count": 5,
     "metadata": {},
     "output_type": "execute_result"
    }
   ],
   "source": [
    "loaded_landmarks = np.load(output_file, allow_pickle=True).item()\n",
    "print(f\"Loaded {len(loaded_landmarks)} landmark entries\")\n",
    "list(loaded_landmarks.items())[:3]  # Show some sample entries\n"
   ]
  }
 ],
 "metadata": {
  "kernelspec": {
   "display_name": "Python 3",
   "language": "python",
   "name": "python3"
  },
  "language_info": {
   "codemirror_mode": {
    "name": "ipython",
    "version": 3
   },
   "file_extension": ".py",
   "mimetype": "text/x-python",
   "name": "python",
   "nbconvert_exporter": "python",
   "pygments_lexer": "ipython3",
   "version": "3.12.9"
  }
 },
 "nbformat": 4,
 "nbformat_minor": 5
}
